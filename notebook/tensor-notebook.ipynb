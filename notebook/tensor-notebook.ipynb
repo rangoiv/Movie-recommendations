{
 "cells": [
  {
   "cell_type": "code",
   "execution_count": 1,
   "metadata": {
    "collapsed": true
   },
   "outputs": [],
   "source": [
    "import sys\n",
    "import numpy as np\n",
    "sys.path.append('../')\n",
    "from tensor_factorization import initialize_factorization, D, fine_tune, Lambda\n",
    "from tensor_factorization import evaluate\n",
    "from FactorizationRatingsAprox import FactorizationRatingsAprox\n",
    "from split_data import split_data\n",
    "from sparse_array import NDSparseArray\n",
    "from datetime import datetime\n",
    "# setting path"
   ]
  },
  {
   "cell_type": "code",
   "execution_count": 2,
   "outputs": [],
   "source": [
    "dataset_path = \"../datasets/movies/ratings_small.csv\"\n",
    "train_path = \"../datasets/movies/ratings_small_train.csv\"\n",
    "test_path = \"../datasets/movies/ratings_small_test.csv\""
   ],
   "metadata": {
    "collapsed": false
   }
  },
  {
   "cell_type": "code",
   "execution_count": 3,
   "outputs": [],
   "source": [
    "split_data(dataset_path, 0.995)"
   ],
   "metadata": {
    "collapsed": false
   }
  },
  {
   "cell_type": "code",
   "execution_count": 3,
   "outputs": [
    {
     "data": {
      "text/plain": "array([(134,   6235, 4.5, 1361245563), (461,    318, 5. , 1091067335),\n       (624,  80727, 2.5, 1325420433), (427, 113064, 3.5, 1413040057),\n       (542,   5218, 2. , 1424966053), (518,   1994, 4. ,  945366812)],\n      dtype=[('f0', '<i4'), ('f1', '<i4'), ('f2', '<f4'), ('f3', '<i4')])"
     },
     "execution_count": 3,
     "metadata": {},
     "output_type": "execute_result"
    }
   ],
   "source": [
    "# Load csv\n",
    "train_data = np.loadtxt(train_path, delimiter=\",\", skiprows=0, dtype=\"i4,i4,f,i4\")\n",
    "test_data = np.loadtxt(test_path, delimiter=\",\", skiprows=0, dtype=\"i4,i4,f,i4\")\n",
    "all_data = np.loadtxt(dataset_path, delimiter=\",\", skiprows=1, dtype=\"i4,i4,f,i4\")\n",
    "train_data[:6]"
   ],
   "metadata": {
    "collapsed": false
   }
  },
  {
   "cell_type": "code",
   "execution_count": 4,
   "outputs": [
    {
     "data": {
      "text/plain": "1.0"
     },
     "execution_count": 4,
     "metadata": {},
     "output_type": "execute_result"
    }
   ],
   "source": [
    "\n",
    "def transform_data(data):\n",
    "    # Put timestamps into \"bins\" of year and month only\n",
    "    _timestamps = [line[3] for line in data]\n",
    "    _timestamps = [datetime.fromtimestamp(timestamp) for timestamp in _timestamps]\n",
    "    _timestamps = [(timestamp.year-1995)*12+timestamp.month for timestamp in _timestamps]\n",
    "\n",
    "    # Load user Ids and movieIds\n",
    "    _user_ids = [line[0] for line in data]\n",
    "    _movie_ids = [line[1] for line in data]\n",
    "    _ratings = [line[2] for line in data]\n",
    "\n",
    "    return _user_ids, _movie_ids, _ratings, _timestamps\n",
    "\n",
    "def make_sparse(_SP, _Y_shape):\n",
    "    _user_ids, _movie_ids, _ratings, _timestamps = _SP\n",
    "    # Create sparse array\n",
    "    Y = NDSparseArray(_Y_shape)\n",
    "    for i in range(len(_user_ids)):\n",
    "        Y[_user_ids[i], _movie_ids[i], _timestamps[i]] = _ratings[i]\n",
    "\n",
    "    return Y\n",
    "\n",
    "user_ids, movie_ids, ratings, timestamps = transform_data(all_data)\n",
    "Y_shape = [max(user_ids) + 10, max(movie_ids) + 1, max(timestamps) + 1]\n",
    "Y = make_sparse(transform_data(train_data), Y_shape)\n",
    "Y_test = make_sparse(transform_data(test_data), Y_shape)\n",
    "Y[564, 1831, 71]  # 71 = (2000-1995) * 12 + 11"
   ],
   "metadata": {
    "collapsed": false
   }
  },
  {
   "cell_type": "code",
   "execution_count": 6,
   "outputs": [],
   "source": [
    "U, M, C, S = initialize_factorization(Y, D(27, 76, 13), Lambda(0.1, 0.1, 0.1, 0.1))"
   ],
   "metadata": {
    "collapsed": false
   }
  },
  {
   "cell_type": "code",
   "execution_count": 7,
   "outputs": [
    {
     "name": "stdout",
     "output_type": "stream",
     "text": [
      "1.03638938320447 99503/99503       \n",
      "0.701532949804202 99503/99503      \n",
      "0.6864890298490713 99503/99503     \n"
     ]
    }
   ],
   "source": [
    "# Train on train dataset\n",
    "la = Lambda(0.000001, 0.0000001, 0.000001, 0.000001)\n",
    "for t in range(30, 33):\n",
    "    def coef(s):\n",
    "        return 0.01 * 1 / (t ** 0.5)\n",
    "    U, M, C, S = fine_tune(U, M, C, S, Y, coef, la)"
   ],
   "metadata": {
    "collapsed": false
   }
  },
  {
   "cell_type": "code",
   "execution_count": 5,
   "outputs": [],
   "source": [
    "\n",
    "# Evaluate on test dataset and calculate the error\n",
    "def get_mae(_U, _M, _C, _S, _Y_test: NDSparseArray):\n",
    "    error_sum = 0\n",
    "    n = len(_Y_test.elements)\n",
    "    for i, j, k in _Y_test.indexes():\n",
    "        rating = _Y_test[i, j, k]\n",
    "        evalRating = evaluate(_U, _M, _C, _S, i, j, k)\n",
    "        error = abs(rating - evalRating)\n",
    "        error_sum += error\n",
    "    MAE = error_sum / n\n",
    "    return MAE"
   ],
   "metadata": {
    "collapsed": false
   }
  },
  {
   "cell_type": "code",
   "execution_count": null,
   "outputs": [],
   "source": [
    "print(get_mae(U, M, C, S, Y_test))"
   ],
   "metadata": {
    "collapsed": false
   }
  },
  {
   "cell_type": "code",
   "execution_count": 6,
   "outputs": [],
   "source": [
    "model_path = \"../factorization_movies_model.pkl\""
   ],
   "metadata": {
    "collapsed": false
   }
  },
  {
   "cell_type": "code",
   "execution_count": 8,
   "outputs": [],
   "source": [
    "# Save this object as FactorizationRatingsAprox pickle\n",
    "new_user_id = Y.shape[0] - 1\n",
    "obj = FactorizationRatingsAprox(U, M, C, S, Y.shape, new_user_id)\n",
    "obj.to_file(model_path)"
   ],
   "metadata": {
    "collapsed": false
   }
  },
  {
   "cell_type": "code",
   "execution_count": 7,
   "outputs": [
    {
     "data": {
      "text/plain": "0.6902198204655863"
     },
     "execution_count": 7,
     "metadata": {},
     "output_type": "execute_result"
    }
   ],
   "source": [
    "# Test if it is saving corectly\n",
    "obj = FactorizationRatingsAprox.from_file(model_path)\n",
    "get_mae(obj.U, obj.M, obj.C, obj.S, Y_test)"
   ],
   "metadata": {
    "collapsed": false
   }
  },
  {
   "cell_type": "code",
   "execution_count": 8,
   "outputs": [
    {
     "name": "stdout",
     "output_type": "stream",
     "text": [
      "0.9190950148667214 8/8     \n",
      "0.7750084121344327 8/8     \n",
      "0.6774916519001883 8/8      \n",
      "0.6919980781271202 8/8      \n",
      "0.6631147275017487 8/8     \n"
     ]
    },
    {
     "data": {
      "text/plain": "[[1172, 3.2281718563862523],\n [899, 3.158024038643328],\n [1221, 3.1322298275288367],\n [8132, 3.115458083868882],\n [318, 3.1137198995269992],\n [994, 3.102026754494994],\n [1228, 3.069376775729906],\n [7502, 3.0594296838507526],\n [1305, 3.0592467515543493],\n [908, 3.056134261026032]]"
     },
     "execution_count": 8,
     "metadata": {},
     "output_type": "execute_result"
    }
   ],
   "source": [
    "# Get Top 10 recomendations if these movies were wathched\n",
    "ratings = [\n",
    "    [1029, 3.0],\n",
    "    [1061, 3.0],\n",
    "    [1129, 2.0],\n",
    "    [1172, 4.0],\n",
    "    [1263, 2.0],\n",
    "    [1287, 2.0],\n",
    "    [1293, 2.0],\n",
    "    [1339, 3.5]\n",
    "]\n",
    "obj.evaluate(ratings)"
   ],
   "metadata": {
    "collapsed": false
   }
  }
 ],
 "metadata": {
  "kernelspec": {
   "display_name": "Python 3",
   "language": "python",
   "name": "python3"
  },
  "language_info": {
   "codemirror_mode": {
    "name": "ipython",
    "version": 2
   },
   "file_extension": ".py",
   "mimetype": "text/x-python",
   "name": "python",
   "nbconvert_exporter": "python",
   "pygments_lexer": "ipython2",
   "version": "2.7.6"
  }
 },
 "nbformat": 4,
 "nbformat_minor": 0
}
