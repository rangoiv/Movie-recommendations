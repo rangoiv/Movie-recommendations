{
 "cells": [
  {
   "cell_type": "code",
   "execution_count": 1,
   "metadata": {
    "collapsed": true
   },
   "outputs": [],
   "source": [
    "import sys\n",
    "import numpy as np\n",
    "# setting path\n",
    "sys.path.append('../')\n"
   ]
  },
  {
   "cell_type": "code",
   "execution_count": 2,
   "outputs": [],
   "source": [
    "dataset_path = \"../datasets/movies/ratings_small.csv\"\n",
    "train_path = \"../datasets/movies/ratings_small_train.csv\"\n",
    "test_path = \"../datasets/movies/ratings_small_test.csv\""
   ],
   "metadata": {
    "collapsed": false
   }
  },
  {
   "cell_type": "code",
   "execution_count": 30,
   "outputs": [],
   "source": [
    "from split_data import split_data\n",
    "\n",
    "split_data(dataset_path, 0.995)"
   ],
   "metadata": {
    "collapsed": false
   }
  },
  {
   "cell_type": "code",
   "execution_count": 31,
   "outputs": [
    {
     "data": {
      "text/plain": "array([(285,  519, 2. ,  965089184), ( 34, 1527, 3. ,  973747685),\n       (620, 7254, 3.5, 1455532188), (239, 3120, 3. ,  991862309),\n       (461,  333, 4. , 1090907428), (213, 1422, 4.5, 1462635638)],\n      dtype=[('f0', '<i4'), ('f1', '<i4'), ('f2', '<f4'), ('f3', '<i4')])"
     },
     "execution_count": 31,
     "metadata": {},
     "output_type": "execute_result"
    }
   ],
   "source": [
    "# Load csv\n",
    "train_data = np.loadtxt(train_path, delimiter=\",\", skiprows=0, dtype=\"i4,i4,f,i4\")\n",
    "test_data = np.loadtxt(test_path, delimiter=\",\", skiprows=0, dtype=\"i4,i4,f,i4\")\n",
    "train_data[:6]"
   ],
   "metadata": {
    "collapsed": false
   }
  },
  {
   "cell_type": "code",
   "execution_count": 32,
   "outputs": [
    {
     "data": {
      "text/plain": "1.0"
     },
     "execution_count": 32,
     "metadata": {},
     "output_type": "execute_result"
    }
   ],
   "source": [
    "from sparse_array import NDSparseArray\n",
    "from datetime import datetime\n",
    "\n",
    "def sparse_data(data):\n",
    "    # Put timestamps into \"bins\" of year and month only\n",
    "    timestamps = [line[3] for line in data]\n",
    "    timestamps = [datetime.fromtimestamp(timestamp) for timestamp in timestamps]\n",
    "    mini = min(timestamps).year\n",
    "    timestamps = [(timestamp.year-mini)*12+timestamp.month for timestamp in timestamps]\n",
    "\n",
    "    # Load user Ids and movieIds\n",
    "    userIds = [line[0] for line in data]\n",
    "    movieIds = [line[1] for line in data]\n",
    "    ratings = [line[2] for line in data]\n",
    "\n",
    "    # Create sparse array\n",
    "    Y = NDSparseArray((max(userIds)+1, max(movieIds)+1, max(timestamps)+1))\n",
    "\n",
    "    for i in range(len(userIds)):\n",
    "        Y[userIds[i], movieIds[i], timestamps[i]] = ratings[i]\n",
    "\n",
    "    return Y\n",
    "\n",
    "Y = sparse_data(train_data)\n",
    "Y_test = sparse_data(test_data)\n",
    "Y[564, 1831, 71]  # 71 = (2000-1995) * 12 + 11"
   ],
   "metadata": {
    "collapsed": false
   }
  },
  {
   "cell_type": "code",
   "execution_count": 33,
   "outputs": [],
   "source": [
    "from tensor_factorization import tensor_factorization, initialize_factorization, D, factorization_cycle, Lambda\n",
    "\n",
    "U, M, C, S = initialize_factorization(Y, D(27, 76, 13), Lambda(0.1, 0.1, 0.1, 0.1))"
   ],
   "metadata": {
    "collapsed": false
   }
  },
  {
   "cell_type": "code",
   "execution_count": 34,
   "outputs": [
    {
     "name": "stdout",
     "output_type": "stream",
     "text": [
      "1.0308727480147315 99503/99503     \n",
      "0.7013795892017465 99503/99503     \n",
      "0.6867116854105575 99503/99503     \n"
     ]
    }
   ],
   "source": [
    "from tensor_factorization import Lambda\n",
    "\n",
    "la = Lambda(0.000001, 0.0000001, 0.000001, 0.000001)\n",
    "for t in range(30, 33):\n",
    "    def coef(s):\n",
    "        return 0.01 * 1 / (t ** 0.5)\n",
    "    U, M, C, S = factorization_cycle(U, M, C, S, Y, coef, la)"
   ],
   "metadata": {
    "collapsed": false
   }
  },
  {
   "cell_type": "code",
   "execution_count": 29,
   "outputs": [
    {
     "name": "stdout",
     "output_type": "stream",
     "text": [
      "1.016322425879298\n"
     ]
    }
   ],
   "source": [
    "from tensor_factorization import evaluate\n",
    "\n",
    "SE = 0\n",
    "n = len(Y_test.elements)\n",
    "for i, j, k in Y_test.indexes():\n",
    "    rating = Y_test[i, j, k]\n",
    "    evalRating = evaluate(U, M, C, S, i, j, k)\n",
    "    error = abs(rating - evalRating)\n",
    "    SE += error\n",
    "MAE = SE / n\n",
    "print(MAE)"
   ],
   "metadata": {
    "collapsed": false
   }
  },
  {
   "cell_type": "code",
   "execution_count": null,
   "outputs": [],
   "source": [],
   "metadata": {
    "collapsed": false
   }
  }
 ],
 "metadata": {
  "kernelspec": {
   "display_name": "Python 3",
   "language": "python",
   "name": "python3"
  },
  "language_info": {
   "codemirror_mode": {
    "name": "ipython",
    "version": 2
   },
   "file_extension": ".py",
   "mimetype": "text/x-python",
   "name": "python",
   "nbconvert_exporter": "python",
   "pygments_lexer": "ipython2",
   "version": "2.7.6"
  }
 },
 "nbformat": 4,
 "nbformat_minor": 0
}
