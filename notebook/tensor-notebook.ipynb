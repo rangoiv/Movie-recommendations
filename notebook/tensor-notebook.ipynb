{
 "cells": [
  {
   "cell_type": "code",
   "execution_count": 1,
   "metadata": {
    "collapsed": true
   },
   "outputs": [],
   "source": [
    "import sys\n",
    "import numpy as np\n",
    "sys.path.append('../')\n",
    "from tensor_factorization import initialize_factorization, D, fine_tune, Lambda\n",
    "from tensor_factorization import evaluate\n",
    "from FactorizationRatingsAprox import FactorizationRatingsAprox\n",
    "from split_data import split_data\n",
    "from sparse_array import NDSparseArray\n",
    "from datetime import datetime\n",
    "# setting path"
   ]
  },
  {
   "cell_type": "code",
   "execution_count": 2,
   "metadata": {
    "collapsed": false
   },
   "outputs": [],
   "source": [
    "model_path = \"../factorization_movies_model.pkl\""
   ]
  },
  {
   "cell_type": "code",
   "execution_count": 3,
   "metadata": {
    "collapsed": false
   },
   "outputs": [],
   "source": [
    "dataset_path = \"../datasets/movies/ratings_small.csv\"\n",
    "train_path = \"../datasets/movies/ratings_small_train.csv\"\n",
    "test_path = \"../datasets/movies/ratings_small_test.csv\""
   ]
  },
  {
   "cell_type": "code",
   "execution_count": 4,
   "metadata": {
    "collapsed": false
   },
   "outputs": [],
   "source": [
    "split_data(dataset_path, 0.99)"
   ]
  },
  {
   "cell_type": "code",
   "execution_count": 5,
   "metadata": {
    "collapsed": false
   },
   "outputs": [
    {
     "data": {
      "text/plain": [
       "array([(472, 2470, 4. ,  944321548), (150, 1198, 4. , 1114306013),\n",
       "       (624, 2369, 3. , 1019128415), ( 19,  379, 3. ,  855193845),\n",
       "       (450, 2542, 4.5, 1475737111), (362, 1208, 3.5, 1218567130)],\n",
       "      dtype=[('f0', '<i4'), ('f1', '<i4'), ('f2', '<f4'), ('f3', '<i4')])"
      ]
     },
     "execution_count": 5,
     "metadata": {},
     "output_type": "execute_result"
    }
   ],
   "source": [
    "# Load csv\n",
    "train_data = np.loadtxt(train_path, delimiter=\",\", skiprows=0, dtype=\"i4,i4,f,i4\")\n",
    "test_data = np.loadtxt(test_path, delimiter=\",\", skiprows=0, dtype=\"i4,i4,f,i4\")\n",
    "all_data = np.loadtxt(dataset_path, delimiter=\",\", skiprows=1, dtype=\"i4,i4,f,i4\")\n",
    "train_data[:6]"
   ]
  },
  {
   "cell_type": "code",
   "execution_count": 6,
   "metadata": {
    "collapsed": false
   },
   "outputs": [
    {
     "data": {
      "text/plain": [
       "1.0"
      ]
     },
     "execution_count": 6,
     "metadata": {},
     "output_type": "execute_result"
    }
   ],
   "source": [
    "# Prepare the data\n",
    "def transform_data(data):\n",
    "    # Put timestamps into \"bins\" of year and month only\n",
    "    _timestamps = [line[3] for line in data]\n",
    "    _timestamps = [datetime.fromtimestamp(timestamp) for timestamp in _timestamps]\n",
    "    _timestamps = [(timestamp.year-1995)*12+timestamp.month for timestamp in _timestamps]\n",
    "    # _timestamps = [timestamp.hour for timestamp in _timestamps]\n",
    "\n",
    "    # Load user Ids and movieIds\n",
    "    _user_ids = [line[0] for line in data]\n",
    "    _movie_ids = [line[1] for line in data]\n",
    "    _ratings = [line[2] for line in data]\n",
    "\n",
    "    return _user_ids, _movie_ids, _ratings, _timestamps\n",
    "\n",
    "def make_sparse(_SP, _Y_shape):\n",
    "    _user_ids, _movie_ids, _ratings, _timestamps = _SP\n",
    "    # Create sparse array\n",
    "    Y = NDSparseArray(_Y_shape)\n",
    "    for i in range(len(_user_ids)):\n",
    "        Y[_user_ids[i], _movie_ids[i], _timestamps[i]] = _ratings[i]\n",
    "\n",
    "    return Y\n",
    "\n",
    "user_ids, movie_ids, ratings, timestamps = transform_data(all_data)\n",
    "Y_shape = [max(user_ids) + 10, max(movie_ids) + 1, max(timestamps) + 1]\n",
    "Y = make_sparse(transform_data(train_data), Y_shape)\n",
    "Y_test = make_sparse(transform_data(test_data), Y_shape)\n",
    "Y[564, 1831, 71]  # 71 = (2000-1995) * 12 + 11"
   ]
  },
  {
   "cell_type": "code",
   "execution_count": 7,
   "metadata": {
    "collapsed": false
   },
   "outputs": [],
   "source": [
    "# Create new matrices for factorization\n",
    "U, M, C, S = initialize_factorization(Y, D(20, 50, 5), Lambda(0.1, 0.1, 0.1, 0.1))"
   ]
  },
  {
   "cell_type": "code",
   "execution_count": 8,
   "metadata": {
    "collapsed": false
   },
   "outputs": [],
   "source": [
    "# Define average error functon\n",
    "def get_mae(_U, _M, _C, _S, _Y_test: NDSparseArray):\n",
    "    error_sum = 0\n",
    "    n = len(_Y_test.elements)\n",
    "    for i, j, k in _Y_test.indexes():\n",
    "        rating = _Y_test[i, j, k]\n",
    "        evalRating = evaluate(_U, _M, _C, _S, i, j, k)\n",
    "        error = abs(rating - evalRating)\n",
    "        error_sum += error\n",
    "    MAE = error_sum / n\n",
    "    return MAE"
   ]
  },
  {
   "cell_type": "code",
   "execution_count": 9,
   "metadata": {
    "collapsed": false
   },
   "outputs": [
    {
     "name": "stdout",
     "output_type": "stream",
     "text": [
      "1.4602379992500596 99003/99003     \n",
      "Train:  0.7191937449046043\n",
      "Test:  0.7591732833686596\n",
      "0.7145027645596232 99003/99003     \n",
      "Train:  0.6790961686967548\n",
      "Test:  0.7337014786642824\n",
      "0.6926415033769125 99003/99003     \n",
      "Train:  0.666480945035268\n",
      "Test:  0.7286124303009864\n",
      "0.6845453127506254 99003/99003     \n",
      "Train:  0.661790543048865\n",
      "Test:  0.7163108624411547\n",
      "0.6803914643841268 99003/99003     \n",
      "Train:  0.6575257803503232\n",
      "Test:  0.7246143872464532\n"
     ]
    }
   ],
   "source": [
    "# Train on train dataset\n",
    "la = Lambda(0.000001, 0.0000001, 0.000001, 0.000001)  # Learning rate\n",
    "for t in range(5):\n",
    "    def coef(s):\n",
    "        return 0.01 * 1 / (30 ** 0.5)\n",
    "    U, M, C, S = fine_tune(U, M, C, S, Y, coef, la)\n",
    "    print(\"Train: \", get_mae(U, M, C, S, Y))\n",
    "    print(\"Test: \", get_mae(U, M, C, S, Y_test))"
   ]
  },
  {
   "cell_type": "code",
   "execution_count": 10,
   "metadata": {
    "collapsed": false
   },
   "outputs": [
    {
     "name": "stdout",
     "output_type": "stream",
     "text": [
      "0.6762252992947649 99003/99003     \n",
      "Train:  0.6553885860702672\n",
      "Test:  0.7211334913312598\n"
     ]
    }
   ],
   "source": [
    "U, M, C, S = fine_tune(U, M, C, S, Y, coef, la)\n",
    "print(\"Train: \", get_mae(U, M, C, S, Y))\n",
    "print(\"Test: \", get_mae(U, M, C, S, Y_test))"
   ]
  },
  {
   "cell_type": "code",
   "execution_count": 15,
   "metadata": {
    "collapsed": false
   },
   "outputs": [],
   "source": [
    "# Save this object as FactorizationRatingsAprox pickle\n",
    "new_user_id = Y.shape[0] - 1\n",
    "obj = FactorizationRatingsAprox(U, M, C, S, Y.shape, new_user_id)\n",
    "obj.to_file(model_path)"
   ]
  },
  {
   "cell_type": "code",
   "execution_count": 13,
   "metadata": {
    "collapsed": false
   },
   "outputs": [
    {
     "data": {
      "text/plain": [
       "0.7211334913312598"
      ]
     },
     "execution_count": 13,
     "metadata": {},
     "output_type": "execute_result"
    }
   ],
   "source": [
    "# Test if it is saving corectly\n",
    "obj_load = FactorizationRatingsAprox.from_file(model_path)\n",
    "get_mae(obj_load.U, obj_load.M, obj_load.C, obj_load.S, Y_test)"
   ]
  },
  {
   "cell_type": "code",
   "execution_count": 14,
   "metadata": {
    "collapsed": false
   },
   "outputs": [
    {
     "name": "stdout",
     "output_type": "stream",
     "text": [
      "1.2157990290740082 8/8     \n",
      "0.8086621205235007 8/8     \n",
      "0.7270643535671233 8/8     \n",
      "0.6747731806280051 8/8      \n",
      "0.6340716046036107 8/8     \n"
     ]
    },
    {
     "data": {
      "text/plain": [
       "[[1172, 3.373065065209053],\n",
       " [73290, 3.219979234769365],\n",
       " [309, 3.143388901644209],\n",
       " [5114, 3.137096152025177],\n",
       " [80, 3.1260975623384106],\n",
       " [5238, 3.1241447844502197],\n",
       " [1859, 3.101746917336289],\n",
       " [9010, 3.093870321181367],\n",
       " [7116, 3.085164787628055],\n",
       " [116897, 3.07780226192594],\n",
       " [759, 3.075926812111441],\n",
       " [8264, 3.0604781422649583],\n",
       " [93040, 3.0591057072233774],\n",
       " [1939, 3.0412915413808],\n",
       " [5475, 3.03902152664593],\n",
       " [6273, 3.0382809415465353],\n",
       " [3030, 3.0338756591833964],\n",
       " [926, 3.0329117012955047],\n",
       " [6918, 3.032551745801409],\n",
       " [7087, 3.025326881384684],\n",
       " [2920, 3.0196887678086295],\n",
       " [59995, 3.0181667431557964],\n",
       " [2318, 3.0175317991378523],\n",
       " [26587, 3.0088268247326218],\n",
       " [2064, 3.0070234435844467],\n",
       " [2066, 3.0042843354293547],\n",
       " [2938, 3.00369299117819],\n",
       " [1860, 2.997340102779173],\n",
       " [296, 2.988019860132126],\n",
       " [858, 2.9824025154627796],\n",
       " [7075, 2.9802465551282014],\n",
       " [97957, 2.9788841384643474],\n",
       " [27803, 2.9786091994746213],\n",
       " [3310, 2.9784899263514983],\n",
       " [2563, 2.9774317097500704],\n",
       " [1254, 2.9761892035021136],\n",
       " [5121, 2.9749356124891744],\n",
       " [86504, 2.973988755963627],\n",
       " [951, 2.9713630093819807],\n",
       " [6669, 2.9688206125166756],\n",
       " [8132, 2.964369423575433],\n",
       " [48791, 2.9640609873115986],\n",
       " [2924, 2.9620596179904837],\n",
       " [40412, 2.958779663517598],\n",
       " [7802, 2.9585711727856956],\n",
       " [6787, 2.957961955279443],\n",
       " [8933, 2.9565689578065095],\n",
       " [1225, 2.9557174411014477],\n",
       " [3739, 2.9510742283966214],\n",
       " [8751, 2.9496909198725856],\n",
       " [97, 2.948093452958482],\n",
       " [893, 2.94750048392676],\n",
       " [1361, 2.9468709924632823],\n",
       " [83359, 2.9449053507928857],\n",
       " [1450, 2.9441104877355415],\n",
       " [32898, 2.943457200118142],\n",
       " [57669, 2.9432081906294023],\n",
       " [5071, 2.9430295320805735],\n",
       " [2330, 2.941471450018262],\n",
       " [73344, 2.941446425142531],\n",
       " [105197, 2.940083069546897],\n",
       " [913, 2.938237848041796],\n",
       " [1256, 2.937839586592242],\n",
       " [7698, 2.937384708042843],\n",
       " [904, 2.9368696641470953],\n",
       " [1192, 2.936826613293559],\n",
       " [56782, 2.935349575657343],\n",
       " [903, 2.9331332846503626],\n",
       " [5017, 2.93291368676655],\n",
       " [77658, 2.930381641459949],\n",
       " [54372, 2.927409474684931],\n",
       " [6598, 2.9259918665222617],\n",
       " [905, 2.9258767305568796],\n",
       " [116, 2.9245571837231963],\n",
       " [1203, 2.924141250267029],\n",
       " [3879, 2.921996300857862],\n",
       " [7459, 2.9190370214456443],\n",
       " [6954, 2.9174250291209227],\n",
       " [3307, 2.91559953636043],\n",
       " [3320, 2.9133240214332212],\n",
       " [3022, 2.911241272206504],\n",
       " [4537, 2.9108651839627644],\n",
       " [5498, 2.905593411743337],\n",
       " [3357, 2.905474014730073],\n",
       " [41573, 2.9054015250094265],\n",
       " [1212, 2.9044177239127453],\n",
       " [7700, 2.904166706112707],\n",
       " [260, 2.9031054605099125],\n",
       " [146656, 2.900707224787693],\n",
       " [26729, 2.8976127381843106],\n",
       " [3983, 2.89726885846836],\n",
       " [4427, 2.895035483882888],\n",
       " [27156, 2.8906095999654187],\n",
       " [3469, 2.889500541556175],\n",
       " [41527, 2.888536808515446],\n",
       " [1230, 2.887721257531961],\n",
       " [1945, 2.886233348982822],\n",
       " [3362, 2.8841608795432263],\n",
       " [1704, 2.883415141151491],\n",
       " [2925, 2.8825819759381957]]"
      ]
     },
     "execution_count": 14,
     "metadata": {},
     "output_type": "execute_result"
    }
   ],
   "source": [
    "# Get Top 10 recomendations if these movies were wathched\n",
    "ratings = [\n",
    "    [1029, 3.0],\n",
    "    [1061, 3.0],\n",
    "    [1129, 2.0],\n",
    "    [1172, 4.0],\n",
    "    [1263, 2.0],\n",
    "    [1287, 2.0],\n",
    "    [1293, 2.0],\n",
    "    [1339, 3.5]\n",
    "]\n",
    "obj_load.evaluate(ratings[:10])"
   ]
  }
 ],
 "metadata": {
  "kernelspec": {
   "display_name": "Python 3",
   "language": "python",
   "name": "python3"
  },
  "language_info": {
   "codemirror_mode": {
    "name": "ipython",
    "version": 2
   },
   "file_extension": ".py",
   "mimetype": "text/x-python",
   "name": "python",
   "nbconvert_exporter": "python",
   "pygments_lexer": "ipython2",
   "version": "3.11.1"
  },
  "vscode": {
   "interpreter": {
    "hash": "7d0edb1c3d47766d9e63a049a7f05fa1c03bcedcc5ec271b616e77de6b44b1a1"
   }
  }
 },
 "nbformat": 4,
 "nbformat_minor": 0
}
